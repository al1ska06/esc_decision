{
 "cells": [
  {
   "cell_type": "code",
   "execution_count": 2,
   "id": "c57b5189",
   "metadata": {},
   "outputs": [],
   "source": [
    "#import libraries and df\n",
    "\n",
    "import pandas as pd\n",
    "import seaborn as sns\n",
    "df = pd.read_csv('song_data.csv', encoding = 'cp1252')\n"
   ]
  },
  {
   "cell_type": "code",
   "execution_count": 3,
   "id": "f32e8b57",
   "metadata": {},
   "outputs": [
    {
     "data": {
      "text/plain": [
       "(358, 6)"
      ]
     },
     "execution_count": 3,
     "metadata": {},
     "output_type": "execute_result"
    }
   ],
   "source": [
    "#to clean: remove songs that did not qualify (missing final_place)\n",
    "# leave columns language, style, key, energy, backing dancers \n",
    "# keep output column -> final place\n",
    "df = df.dropna(subset = ['final_place'])\n",
    "cdf = df[['language', 'style', 'key', 'energy', 'backing_dancers', 'final_place']]\n",
    "cdf.shape"
   ]
  }
 ],
 "metadata": {
  "kernelspec": {
   "display_name": "esc",
   "language": "python",
   "name": "python3"
  },
  "language_info": {
   "codemirror_mode": {
    "name": "ipython",
    "version": 3
   },
   "file_extension": ".py",
   "mimetype": "text/x-python",
   "name": "python",
   "nbconvert_exporter": "python",
   "pygments_lexer": "ipython3",
   "version": "3.10.18"
  }
 },
 "nbformat": 4,
 "nbformat_minor": 5
}
