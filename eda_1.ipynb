{
 "cells": [
  {
   "cell_type": "code",
   "execution_count": 2,
   "id": "c57b5189",
   "metadata": {},
   "outputs": [],
   "source": [
    "#import libraries and df\n",
    "\n",
    "import pandas as pd\n",
    "import seaborn as sns\n",
    "df = pd.read_csv('song_data.csv', encoding = 'cp1252')\n"
   ]
  },
  {
   "cell_type": "code",
   "execution_count": 3,
   "id": "f32e8b57",
   "metadata": {},
   "outputs": [
    {
     "data": {
      "application/vnd.microsoft.datawrangler.viewer.v0+json": {
       "columns": [
        {
         "name": "index",
         "rawType": "int64",
         "type": "integer"
        },
        {
         "name": "language",
         "rawType": "object",
         "type": "string"
        },
        {
         "name": "style",
         "rawType": "object",
         "type": "string"
        },
        {
         "name": "key",
         "rawType": "object",
         "type": "string"
        },
        {
         "name": "energy",
         "rawType": "object",
         "type": "string"
        },
        {
         "name": "backing_dancers",
         "rawType": "int64",
         "type": "integer"
        },
        {
         "name": "final_place",
         "rawType": "float64",
         "type": "float"
        }
       ],
       "ref": "fa0c9e48-02e5-45e6-b2b9-52ae110d7048",
       "rows": [
        [
         "0",
         "English",
         "Pop",
         "E Minor",
         "36",
         "4",
         "5.0"
        ],
        [
         "2",
         "Serbian, English",
         "Pop",
         "A Major",
         "70",
         "4",
         "24.0"
        ],
        [
         "4",
         "Portuguese",
         "Pop",
         "Fs Minor",
         "63",
         "4",
         "23.0"
        ],
        [
         "6",
         "Croatian",
         "Pop",
         "C Major",
         "78",
         "0",
         "13.0"
        ],
        [
         "7",
         "English",
         "Ballad",
         "Ab Minor",
         "87",
         "4",
         "20.0"
        ],
        [
         "8",
         "English",
         "Pop",
         "Fs Minor",
         "87",
         "5",
         "3.0"
        ],
        [
         "9",
         "Romanian",
         "Traditional",
         "Ab Major",
         "86",
         "0",
         "18.0"
        ],
        [
         "10",
         "English",
         "Pop",
         "Eb Minor",
         "78",
         "0",
         "1.0"
        ],
        [
         "12",
         "English, Ukrainian, Czech, Bulgarian",
         "Pop",
         "E Minor",
         "92",
         "0",
         "10.0"
        ],
        [
         "14",
         "Finnish",
         "Pop",
         "D Major",
         "79",
         "4",
         "2.0"
        ]
       ],
       "shape": {
        "columns": 6,
        "rows": 10
       }
      },
      "text/html": [
       "<div>\n",
       "<style scoped>\n",
       "    .dataframe tbody tr th:only-of-type {\n",
       "        vertical-align: middle;\n",
       "    }\n",
       "\n",
       "    .dataframe tbody tr th {\n",
       "        vertical-align: top;\n",
       "    }\n",
       "\n",
       "    .dataframe thead th {\n",
       "        text-align: right;\n",
       "    }\n",
       "</style>\n",
       "<table border=\"1\" class=\"dataframe\">\n",
       "  <thead>\n",
       "    <tr style=\"text-align: right;\">\n",
       "      <th></th>\n",
       "      <th>language</th>\n",
       "      <th>style</th>\n",
       "      <th>key</th>\n",
       "      <th>energy</th>\n",
       "      <th>backing_dancers</th>\n",
       "      <th>final_place</th>\n",
       "    </tr>\n",
       "  </thead>\n",
       "  <tbody>\n",
       "    <tr>\n",
       "      <th>0</th>\n",
       "      <td>English</td>\n",
       "      <td>Pop</td>\n",
       "      <td>E Minor</td>\n",
       "      <td>36</td>\n",
       "      <td>4</td>\n",
       "      <td>5.0</td>\n",
       "    </tr>\n",
       "    <tr>\n",
       "      <th>2</th>\n",
       "      <td>Serbian, English</td>\n",
       "      <td>Pop</td>\n",
       "      <td>A Major</td>\n",
       "      <td>70</td>\n",
       "      <td>4</td>\n",
       "      <td>24.0</td>\n",
       "    </tr>\n",
       "    <tr>\n",
       "      <th>4</th>\n",
       "      <td>Portuguese</td>\n",
       "      <td>Pop</td>\n",
       "      <td>Fs Minor</td>\n",
       "      <td>63</td>\n",
       "      <td>4</td>\n",
       "      <td>23.0</td>\n",
       "    </tr>\n",
       "    <tr>\n",
       "      <th>6</th>\n",
       "      <td>Croatian</td>\n",
       "      <td>Pop</td>\n",
       "      <td>C Major</td>\n",
       "      <td>78</td>\n",
       "      <td>0</td>\n",
       "      <td>13.0</td>\n",
       "    </tr>\n",
       "    <tr>\n",
       "      <th>7</th>\n",
       "      <td>English</td>\n",
       "      <td>Ballad</td>\n",
       "      <td>Ab Minor</td>\n",
       "      <td>87</td>\n",
       "      <td>4</td>\n",
       "      <td>20.0</td>\n",
       "    </tr>\n",
       "    <tr>\n",
       "      <th>8</th>\n",
       "      <td>English</td>\n",
       "      <td>Pop</td>\n",
       "      <td>Fs Minor</td>\n",
       "      <td>87</td>\n",
       "      <td>5</td>\n",
       "      <td>3.0</td>\n",
       "    </tr>\n",
       "    <tr>\n",
       "      <th>9</th>\n",
       "      <td>Romanian</td>\n",
       "      <td>Traditional</td>\n",
       "      <td>Ab Major</td>\n",
       "      <td>86</td>\n",
       "      <td>0</td>\n",
       "      <td>18.0</td>\n",
       "    </tr>\n",
       "    <tr>\n",
       "      <th>10</th>\n",
       "      <td>English</td>\n",
       "      <td>Pop</td>\n",
       "      <td>Eb Minor</td>\n",
       "      <td>78</td>\n",
       "      <td>0</td>\n",
       "      <td>1.0</td>\n",
       "    </tr>\n",
       "    <tr>\n",
       "      <th>12</th>\n",
       "      <td>English, Ukrainian, Czech, Bulgarian</td>\n",
       "      <td>Pop</td>\n",
       "      <td>E Minor</td>\n",
       "      <td>92</td>\n",
       "      <td>0</td>\n",
       "      <td>10.0</td>\n",
       "    </tr>\n",
       "    <tr>\n",
       "      <th>14</th>\n",
       "      <td>Finnish</td>\n",
       "      <td>Pop</td>\n",
       "      <td>D Major</td>\n",
       "      <td>79</td>\n",
       "      <td>4</td>\n",
       "      <td>2.0</td>\n",
       "    </tr>\n",
       "  </tbody>\n",
       "</table>\n",
       "</div>"
      ],
      "text/plain": [
       "                                language        style       key energy  \\\n",
       "0                                English          Pop   E Minor     36   \n",
       "2                       Serbian, English          Pop   A Major     70   \n",
       "4                             Portuguese          Pop  Fs Minor     63   \n",
       "6                               Croatian          Pop   C Major     78   \n",
       "7                                English       Ballad  Ab Minor     87   \n",
       "8                                English          Pop  Fs Minor     87   \n",
       "9                               Romanian  Traditional  Ab Major     86   \n",
       "10                               English          Pop  Eb Minor     78   \n",
       "12  English, Ukrainian, Czech, Bulgarian          Pop   E Minor     92   \n",
       "14                               Finnish          Pop   D Major     79   \n",
       "\n",
       "    backing_dancers  final_place  \n",
       "0                 4          5.0  \n",
       "2                 4         24.0  \n",
       "4                 4         23.0  \n",
       "6                 0         13.0  \n",
       "7                 4         20.0  \n",
       "8                 5          3.0  \n",
       "9                 0         18.0  \n",
       "10                0          1.0  \n",
       "12                0         10.0  \n",
       "14                4          2.0  "
      ]
     },
     "execution_count": 3,
     "metadata": {},
     "output_type": "execute_result"
    }
   ],
   "source": [
    "#to clean: remove songs that did not qualify (missing final_place)\n",
    "# leave columns language, style, key, energy, backing dancers \n",
    "# keep output column -> final place\n",
    "df = df.dropna(subset = ['final_place'])\n",
    "cdf = df[['language', 'style', 'key', 'energy', 'backing_dancers', 'final_place']]\n",
    "cdf.head(10)"
   ]
  }
 ],
 "metadata": {
  "kernelspec": {
   "display_name": "esc",
   "language": "python",
   "name": "python3"
  },
  "language_info": {
   "codemirror_mode": {
    "name": "ipython",
    "version": 3
   },
   "file_extension": ".py",
   "mimetype": "text/x-python",
   "name": "python",
   "nbconvert_exporter": "python",
   "pygments_lexer": "ipython3",
   "version": "3.10.18"
  }
 },
 "nbformat": 4,
 "nbformat_minor": 5
}
